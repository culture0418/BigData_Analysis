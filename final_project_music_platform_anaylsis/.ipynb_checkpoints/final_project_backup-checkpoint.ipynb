{
 "cells": [
  {
   "cell_type": "code",
   "execution_count": null,
   "id": "332b88ed",
   "metadata": {},
   "outputs": [],
   "source": [
    "import numpy as np\n",
    "w = np.array([0.,0.,0.])\n",
    "error = 1\n",
    "iterator = 0\n",
    "while error != 0:\n",
    "    error = 0\n",
    "    for i in range(len(data_perceptron)):\n",
    "        x,y = np.concatenate((np.array([1.]), np.array(data_perceptron.iloc[i])[:2])), np.array(data_perceptron.iloc[i])[3]\n",
    "        if sign(np.dot(w,x)) != y:\n",
    "            print(\"iterator: \"+str(iterator))\n",
    "            iterator += 1\n",
    "            error += 1\n",
    "            w += y*x            \n",
    "            print(\"x: \" + str(x))    \n",
    "            print(\"w: \" + str(w))\n",
    "# print(str(w))"
   ]
  },
  {
   "cell_type": "code",
   "execution_count": null,
   "id": "567f02d1",
   "metadata": {},
   "outputs": [],
   "source": [
    "def music(a):\n",
    "    if a == 1:\n",
    "        print('result is KKBOX')\n",
    "    elif a == -1:\n",
    "        print('result is SPOTIFY')\n",
    "\n",
    "#print(music(sign(np.dot(w,new_music))))  "
   ]
  }
 ],
 "metadata": {
  "kernelspec": {
   "display_name": "Python 3 (ipykernel)",
   "language": "python",
   "name": "python3"
  },
  "language_info": {
   "codemirror_mode": {
    "name": "ipython",
    "version": 3
   },
   "file_extension": ".py",
   "mimetype": "text/x-python",
   "name": "python",
   "nbconvert_exporter": "python",
   "pygments_lexer": "ipython3",
   "version": "3.9.7"
  }
 },
 "nbformat": 4,
 "nbformat_minor": 5
}
